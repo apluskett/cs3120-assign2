{
  "cells": [
    {
      "cell_type": "markdown",
      "metadata": {
        "id": "XMIr3Erjk4m5"
      },
      "source": [
        "# Assign 2: Linear Regression Lab\n",
        "\n",
        "In this first lab you will fit a linear regression model. You will also dig deeper by 'training' a linear regression model manually in a few different ways.\n",
        "\n",
        "You might be wondering, \"*why all the excitement about linear regression?*\"  It so happens that regression is one of the workhorses of machine learning, and it also underlies other more complex types of models.  The advantage of regression models is that they are highly interpretable and very stable when it comes to training/fitting. In fact, linear regression models, particularly multiple linear regression with many input predictors, can mimic a lot of the power of more complex models, such as neural networks, while maintaining their computational stability and interpretability. There is a long running joke/meme about companies that claim to use \"machine learning\" actually use linear regression (and logistic regression, which we'll soon see more of). This isn't entirely a joke though since even if a company is using very powerful/complex types of models (e.g. deep neural networks), they will almost always have already tried using a linear regression model because it would be the cheaper and faster solution.  In other words, linear regression is almost always the default modeling approach, and is sometimes hard to beat!\n",
        "\n",
        "*Note that this notebook uses some content from a [course at NYU](https://cims.nyu.edu/~brenden/courses/labincp/labs/LabReg-IntroToRegression.html), which itself borrowed content from [General Assembly's Data Science](https://github.com/justmarkham/DAT4) course, which claims to have adapted materials one of the most authoratative texts on the subject, [An Introduction to Statistical Learning](http://www-bcf.usc.edu/~gareth/ISL/).*\n",
        "\n",
        "\n",
        "Next, we would typically load the Python libraries/modules that we'll use. However, these have been commented because we will load each module individually just before we use it, so that we can start to understand which modules does what."
      ]
    },
    {
      "cell_type": "code",
      "execution_count": null,
      "metadata": {
        "id": "jJ1xgsaok4m9"
      },
      "outputs": [],
      "source": [
        "#from IPython.core.display import HTML, Markdown #, display\n",
        "#from sklearn import linear_model\n",
        "#import numpy.random as npr\n",
        "#import numpy as np\n",
        "#import pandas as pd\n",
        "#import seaborn as sns\n",
        "#import matplotlib.pyplot as plt\n",
        "#import scipy.stats as stats\n",
        "#import statsmodels.formula.api as smf\n",
        "#import ipywidgets as widgets"
      ]
    },
    {
      "cell_type": "markdown",
      "metadata": {
        "id": "7f-L5U8Mk4m-"
      },
      "source": [
        "We are going to use the [statsmodels](https://www.statsmodels.org/stable/index.html) python package to fit our regression model because it has a lot of nice outputs which are helpful for interpreting regressions.  However, you could do almost all of the same using the [scikit-learn](https://scikit-learn.org/stable/) package, which is a more general package for machine learning than can perform various types of sophisticated regression, classification, clustering, and dimensionality reduction steps."
      ]
    },
    {
      "cell_type": "markdown",
      "metadata": {
        "id": "wIkehXjPk4m-"
      },
      "source": [
        "## Loading the dataset\n",
        "\n",
        "Before training/fitting any model we need data. Below we will load a dataset from the text, [Learning Statistics with R](https://kpu.pressbooks.pub/learningstatistics/). The dataset will help us to explore the factors that lead to a parent being grumpy after having a baby.\n",
        "\n",
        "The data is located in a public github repository but loading will be no different than if it were a local file in our computer. We simply use the link to the file and open it with the [pandas](https://pandas.pydata.org) Python module `read_csv` command.\n",
        "\n",
        "Also, let's look at the first few rows of data. Note that one row can be thought of as one *observation*."
      ]
    },
    {
      "cell_type": "code",
      "execution_count": null,
      "metadata": {
        "colab": {
          "base_uri": "https://localhost:8080/",
          "height": 206
        },
        "id": "fB73GPZlk4m_",
        "outputId": "ac0d60f4-6fbc-449b-ce88-c7aa42aee125"
      },
      "outputs": [],
      "source": [
        "import pandas as pd\n",
        "\n",
        "df = pd.read_csv('https://raw.githubusercontent.com/sgeinitz/CS3120/main/lab1_data_parenthood.csv')\n",
        "df.head()"
      ]
    },
    {
      "cell_type": "markdown",
      "metadata": {
        "id": "lo5ItRtFk4m_"
      },
      "source": [
        "For this dataset one observation consists of the following fields or columns:\n",
        "\n",
        "* `day` - the day of the baby's life and the day that the observation was made  \n",
        "* `parent_sleep` - number of hours of sleep the parent had the night before this day\n",
        "* `baby_sleep` - number of hours of sleep the baby had the night before this day\n",
        "* `parent_grumpy` - level of grumpiness of the parent on this day (this will be our `Y`, or what we will want to try to predict)\n",
        "\n",
        "To confirm that information, or if we didnt' know it ahead of time, we could use the pandas dataframe method, `describe`, to see some descriptive statistics for each column."
      ]
    },
    {
      "cell_type": "code",
      "execution_count": null,
      "metadata": {
        "colab": {
          "base_uri": "https://localhost:8080/",
          "height": 300
        },
        "id": "I-rsCS1Ik4m_",
        "outputId": "46dff5c4-5577-4f5f-ef63-df446f9f96da"
      },
      "outputs": [],
      "source": [
        "df.describe()"
      ]
    },
    {
      "cell_type": "markdown",
      "metadata": {
        "id": "P6HMsJsjk4nA"
      },
      "source": [
        "***\n",
        "### Q1: What does the column `parent_grumpy` look like? What is it's mean? What is it's minimum value? Maximum value? Based on all of that, what do you think the scale of grumpiness is? Is it between 1 and 10? Between -1 and 1?\n",
        "\n",
        "\\<The mean is 63.71. The (min,max) are (41.00,91.00). I think the scale is between 1-100.\\>\n",
        "***"
      ]
    },
    {
      "cell_type": "markdown",
      "metadata": {
        "id": "MP_weQ-fk4nA"
      },
      "source": [
        "Next, let's look at if or how the columns are related to one another. There are descriptive statistics that we can calculate to do this but typically it's best to simply look at the data and see what it looks like.\n",
        "\n",
        "We'll use the Python module [seaborn](https://seaborn.pydata.org), which is for plotting and visualizing data."
      ]
    },
    {
      "cell_type": "code",
      "execution_count": null,
      "metadata": {
        "colab": {
          "base_uri": "https://localhost:8080/",
          "height": 466
        },
        "id": "g-crQW6Ok4nA",
        "outputId": "e54a46bd-6267-491c-eafb-75a280929ab1"
      },
      "outputs": [],
      "source": [
        "import seaborn as sns\n",
        "\n",
        "sns.scatterplot(data=df, x='day', y='parent_grumpy')"
      ]
    },
    {
      "cell_type": "markdown",
      "metadata": {
        "id": "TAkR0eMYk4nB"
      },
      "source": [
        "***\n",
        "### Q2: Does there appear to be a relationship of any kind between day and how grumpy the parent is? In other words, does a parent's level of grumpiness get better or worse in the first 100 days of baby's life? Is there any type of pattern in how these two variables are related?\n",
        "\n",
        "\\<I don't think there is any relationship between the day and the parents grumpiness because the points are all over the place and not in any human descernible way. There is no pattern.\\>\n",
        "***"
      ]
    },
    {
      "cell_type": "markdown",
      "metadata": {
        "id": "PXxiq1Erk4nB"
      },
      "source": [
        "Next, let's look at the other fields versus a parent's level of grumpiness. Note that we'll now use the other common Python module for plotting and visualization, matplotlib. This module is lower-level than seaborn which allows us to create multiple plots side by side, and manipulate other small details of plots."
      ]
    },
    {
      "cell_type": "code",
      "execution_count": null,
      "metadata": {
        "colab": {
          "base_uri": "https://localhost:8080/",
          "height": 388
        },
        "id": "inCX7gxOk4nB",
        "outputId": "a7efbe50-54d9-4dda-f9e4-17ac367e80af"
      },
      "outputs": [],
      "source": [
        "import matplotlib.pyplot as plt\n",
        "\n",
        "#fig, (ax1, ax2, ax3) = plt.subplots(1, 3, figsize=(12, 4))\n",
        "fig, (ax1, ax2) = plt.subplots(1, 2, figsize=(10, 4))\n",
        "sns.scatterplot(data=df, x='baby_sleep', y='parent_grumpy', ax=ax1)\n",
        "sns.scatterplot(data=df, x='parent_sleep', y='parent_grumpy', ax=ax2, color='red')\n",
        "#sns.scatterplot(data=df, x='baby_sleep', y='parent_sleep', ax=ax3, color='red')\n",
        "plt.show()"
      ]
    },
    {
      "cell_type": "markdown",
      "metadata": {
        "id": "5Gn0dvDik4nB"
      },
      "source": [
        "***\n",
        "### Q3: What is the relationship that seems more important here? In other words, which do you think is a more direct cause of a parent being grumpy?\n",
        "\n",
        "\\<The parent sleep seems to be a much better indicator of grumpiness than baby sleep because you can see a clear relationship in a loose regession line.>\n",
        "\n",
        "***"
      ]
    },
    {
      "cell_type": "markdown",
      "metadata": {
        "id": "ThTGoJI8k4nB"
      },
      "source": [
        "## Simple Linear Regression\n",
        "\n",
        "There is a lot more that could be discussed about which variable drives what, in what order, etc. For now though, let's go ahead and begin fitting a linear regression. As we've seen, simple linear regression is an approach for predicting a **quantitative response** using a **single feature** (or \"predictor\" or \"input variable\"). It takes the following form:\n",
        "\n",
        "$y = \\beta_0 + \\beta_1x \\quad $ or $ \\quad y = b + w x$\n",
        "\n",
        "What does each term represent?\n",
        "- $y$ is the response\n",
        "- $x$ is the feature\n",
        "- $\\beta_0$ is the y-intercept of the line, which we could also call the **bias** parameter, $b$\n",
        "- $\\beta_1$ is the slope of the line or coefficient for x, which we could also call the **weight** parameter, $w$\n",
        "\n",
        "Together, $\\beta_0$ and $\\beta_1$, or $b$ and $w$ are called the **model coefficients**, or **parameters** of the model. To train or fit the model it must \"learn\" the values of these parameters. Once we've learned these coefficients, we can use the model to make predictions!"
      ]
    },
    {
      "cell_type": "markdown",
      "metadata": {
        "id": "JYfsgwQrk4nB"
      },
      "source": [
        "What do you mean by \"learn\"?  Well you are probably more familiar with the phrase \"fit\" meaning we adjust the settings of the model coefficients (aka as parameters) until the line seems like a good summary of the data.  Fitting thus mean adjusting some internal numbers so that the better reflect the underlying data set.  Well when a human (or machine) learns it, it is in some sense of the same thing.  We change the connections of the weights (or parameters) inside our brains to help us better predict our environment.  For instance if your roommate is prone to late night partying and being grumpy the next day you might mentally fit a model to the experiences you have and \"learn\" what features are predictive of them being grumpy.  So basically fitting a linear regression model is the same as doing basic machine learning! Wow!\n",
        "\n",
        "Before we get into using the computer to \"fit\" our data, let's start simple and do things by hand. Try adjusting the sliders below to get to what you think is a good model fit. As mentioned in class, getting roughly half of the points above the line and half below the line is ideally what we want."
      ]
    },
    {
      "cell_type": "code",
      "execution_count": null,
      "metadata": {
        "colab": {
          "base_uri": "https://localhost:8080/",
          "height": 606,
          "referenced_widgets": [
            "36942defd94446b5af507b815b1dab0f",
            "83db5eea51fb433197e5d35e272d4c1e",
            "6bcac1a550d84e20b3ef1e3bfb4438b6",
            "5aab0d3532a74298be3c30ab07e69632",
            "dba245a0563d4fb592b37501b3a07443",
            "43b43d610630447a965702a4528ae3ee",
            "a0990102a86841628117379cc00b6dc4",
            "109da259b483457295b966a61005ad44",
            "014783fbec5841ab8fbebe77c5412abf",
            "7efb11e0c6f349d3acb9036414d0aa58"
          ]
        },
        "id": "3ZrFqpbBk4nC",
        "outputId": "d58c99ef-b539-4e35-b5d9-42a402f91a6e"
      },
      "outputs": [],
      "source": [
        "from IPython.core.display import HTML, Markdown\n",
        "import ipywidgets as widgets\n",
        "import numpy as np\n",
        "\n",
        "@widgets.interact(slope=widgets.IntSlider(min=-20, max=20, step=1, value=0), intercept=widgets.IntSlider(min=0, max=200, step=1, value=50))\n",
        "def plot_grumpiness(slope, intercept):\n",
        "    predict = intercept + slope * df.parent_sleep\n",
        "    resid = df.parent_grumpy - predict\n",
        "    fig, ax = plt.subplots(figsize=(9,6))\n",
        "\n",
        "    x1 = np.linspace(df.parent_sleep.min(), df.parent_sleep.max(), 400)\n",
        "    y1 = intercept + slope * x1\n",
        "\n",
        "    ax.plot(df.parent_sleep, df.parent_grumpy, 'ko', markersize=4)\n",
        "\n",
        "    ax.plot(x1, y1, '-', color='steelblue', linewidth=1)\n",
        "    plt.xlabel(\"dad sleep\")\n",
        "    plt.ylabel(\"dad grumpy level\")\n",
        "\n",
        "    plt.show()\n"
      ]
    },
    {
      "cell_type": "markdown",
      "metadata": {
        "id": "fOlpi_eXk4nC"
      },
      "source": [
        "If you used the approach of getting half of the points above the line and half below the line, you probably realized that there are several different ways to acheive this - not all of which make sense. That's why we instead think about fitting a regression model as minimizing all **residuals**. A residual is defined as the difference between the the observation $y$ and the prediction $\\hat{y}$.\n",
        "\n",
        "Specifically, the **residual for the $i^{th}$ observation** in the data is defined as:\n",
        "* $y_i - \\hat{y}_i$\n",
        "\n",
        "The next plot shows what are known as the **residuals** between the actual data points (black) and the regression line (blue). As you can see the total amount of red changes depending on how good of a fit your parameter values give you. Use this widget to make your own *guesstimate* of what the values of $\\beta_0$ and $\\beta_1$ should be.\n"
      ]
    },
    {
      "cell_type": "code",
      "execution_count": null,
      "metadata": {
        "colab": {
          "base_uri": "https://localhost:8080/",
          "height": 606,
          "referenced_widgets": [
            "24841257a433432bb7db7b5d49e5def7",
            "763b1d47b6804c418da98c26b315eee2",
            "3d0aac6d80a1483e8edaf1be89b51dfb",
            "0e5e49878005460a98291c868efcc571",
            "cb5e41b6f7a046a582309ee19e1b6f81",
            "b8f7dbe533ae439ab6898cf2304ce038",
            "476c704145954ca88464a76ddc688dce",
            "7eaa407f2e4d4892a184ccbb05a5c668",
            "aea242a0e52a48e6837e43db016fcb5b",
            "e8dec73a7238416a90bd4331a2b8d904"
          ]
        },
        "id": "AJ4LRiWpk4nC",
        "outputId": "68be5e6a-ca47-4ec2-c9af-7478cc2f73fd"
      },
      "outputs": [],
      "source": [
        "@widgets.interact(slope=widgets.IntSlider(min=-20, max=20, step=1, value=0), intercept=widgets.IntSlider(min=0, max=200, step=1, value=50))\n",
        "def plot_grumpiness(slope, intercept):\n",
        "    predict = intercept+slope*df.parent_sleep\n",
        "    resid = df.parent_grumpy-predict\n",
        "    fig, ax = plt.subplots(figsize=(9,6))\n",
        "\n",
        "    x1 = np.linspace(df.parent_sleep.min(), df.parent_sleep.max(),400)\n",
        "    y1 = intercept+slope*x1\n",
        "\n",
        "    ax.plot(df.parent_sleep, df.parent_grumpy,'ko',markersize=4)\n",
        "    ax.plot(df.parent_sleep, df.parent_grumpy-resid,'o',markersize=4,markeredgecolor='r', markeredgewidth=.4, markerfacecolor='white')\n",
        "\n",
        "    ax.plot(x1,y1,'-',color='blue',linewidth=1)\n",
        "    plt.xlabel(\"dad sleep\")\n",
        "    plt.ylabel(\"dad grumpiness\")\n",
        "\n",
        "    ax.vlines(df.parent_sleep, df.parent_grumpy, df.parent_grumpy-resid,'r',linewidth=0.5)\n",
        "    plt.show()\n",
        "\n"
      ]
    },
    {
      "cell_type": "markdown",
      "metadata": {
        "id": "stZqjJhck4nC"
      },
      "source": [
        "***\n",
        "### Q4: What values of $\\beta_0$ and $\\beta_1$ result in a good model fit? Is the slope positive or negative? Explain why?\n",
        "\n",
        "\\<The values of B0 and B1 that look like a good model fit are -11 and 140. The slope is negative because the parents level of grumpiness goes down with more sleep.\\>\n",
        "\n",
        "***"
      ]
    },
    {
      "cell_type": "markdown",
      "metadata": {
        "id": "LwfQ_CNyk4nC"
      },
      "source": [
        "## Estimating Model Coefficients (i.e. \"training\" the model)\n",
        "\n",
        "The mechanics of fitting a line to some data, or \"learning\" the model parameter values, or \"training\" the model is better done using a precise method rather than eyeballing it as you did above. Generally speaking, coefficients are estimated using the **least squares criterion**, which means we will find the line (mathematically) which minimizes the **sum of squared residuals** (or \"sum of squared errors\"). This can be summed up in the following graphic.\n",
        "\n",
        "![toyexample](https://cims.nyu.edu/~brenden/courses/labincp/_images/08_estimating_coefficients.png)\n",
        "\n",
        "In the figure above...\n",
        "- the black dots are the **observed values** of x and y,\n",
        "- the blue line is the **least squares line**,\n",
        "- the red lines are the **residuals**, which are the distances between the observed values and the least squares line.\n",
        "\n",
        "Remember, model parameters in the regression model can be interpreted as follows.\n",
        "- $\\beta_0$ is the **intercept** (the value of $y$ when $x$=0)\n",
        "- $\\beta_1$ is the **slope** (the change in $y$ divided by change in $x$)\n",
        "\n",
        "Here is a graphical depiction of those calculations:\n",
        "\n",
        "![toyexample2](https://cims.nyu.edu/~brenden/courses/labincp/_images/08_slope_intercept.png)\n"
      ]
    },
    {
      "cell_type": "markdown",
      "metadata": {
        "id": "YjkQAPJjk4nC"
      },
      "source": [
        "To find the best possible parameter values (i.e. to fit or train the model), we want to minimize the sum of squared errors. Note that since $\\hat{y}$ is a function of $\\beta_0$ and $\\beta_1$, then the sum of squared errors can be stated as a function of them (and then minimized). Namely, we want to minimize the following expression with respect to $\\beta_0$ and $\\beta_1$.\n",
        "\n",
        "* $\\sum_{i=1}^{n} (y_i - (\\beta_0 + \\beta_1 x_i))^2$\n",
        "\n",
        "We could manually calculate the values by minimizing the above, but let's first use the [statmodels](https://www.statsmodels.org/stable/install.html) Python package. See how these numbers compare to the values you found in your *guesstimate* above."
      ]
    },
    {
      "cell_type": "code",
      "execution_count": null,
      "metadata": {
        "colab": {
          "base_uri": "https://localhost:8080/"
        },
        "id": "EnkgMKIMk4nC",
        "outputId": "bd4ad7dd-c2d6-4b31-c952-671980f66478"
      },
      "outputs": [],
      "source": [
        "import statsmodels.formula.api as smf\n",
        "\n",
        "sm_lm = smf.ols(formula='parent_grumpy ~ parent_sleep', data=df).fit()\n",
        "print(sm_lm.params)"
      ]
    },
    {
      "cell_type": "markdown",
      "metadata": {
        "id": "vpx2to1zk4nC"
      },
      "source": [
        "A couple of points on how we used `smf` here...\n",
        "* First is that we use the `smf.ols()` function which does an _ordinary least squares_ fit.  This is the type of fit which tries to minimize the sum of the squared residuals.  There are other types of fitting proceedures such as weighted least squares which is used when you expect the variance of the predicted variable to changes with the input predictor as well as its mean value.  We won't worry about those variations of linear regression in this class though.\n",
        "\n",
        "* Second is that we provide the `ols()` function or method with the pandas dataframe we are working with, `df`, and then provide a formula.  The formula expresses our \"_model_\" and is which variables in the data frame we are trying to relate.  Here the formula `parent_grumpy ~ parent_sleep` means that we want to predict `parent_grumpy` values given `parent_sleep` values. So you think of `parent_grumpy` as our \"_y value_\" and `parent_sleep` are our \"_x value_\".\n",
        "\n",
        "\n",
        "Although the **statsmodels** Python module is a powerful and intuitive tool for statistics, and similar to the standard libraries in R, the module that is more common among Data Scientists and Machine Learning practioners is [scikitlearn](https://scikit-learn.org/stable/). We'll use this now. Try to make a note of how the syntax is different between statsmodels and scikitlearn."
      ]
    },
    {
      "cell_type": "code",
      "execution_count": null,
      "metadata": {
        "colab": {
          "base_uri": "https://localhost:8080/"
        },
        "id": "X6BfaPJ9k4nC",
        "outputId": "1f3f5c45-6e42-438d-e0c5-e0a21903c429"
      },
      "outputs": [],
      "source": [
        "from sklearn import linear_model\n",
        "\n",
        "lm = linear_model.LinearRegression()\n",
        "lm.fit(df[['parent_sleep']], df['parent_grumpy'])\n",
        "print(lm.coef_, lm.intercept_)"
      ]
    },
    {
      "cell_type": "markdown",
      "metadata": {
        "id": "z_0sYvE9k4nD"
      },
      "source": [
        "It's easy to see that the values of the parameters for both models are the same, but notice the small diffences in the names of usage of them. The **statsmodel** model gives us all of the parameters in attribute `lm.params`.\n",
        "\n",
        "With `scikitlearn`, or `sklearn` above, the model has different attributes for each parameter, `lm.coef_`, `lm.intercept`. Note that `lm.coef` itself is a list though, so if our model was going to have other predictors, i.e. other X variables or inputs, then they would be added to the list, `lm.coef`."
      ]
    },
    {
      "cell_type": "markdown",
      "metadata": {
        "id": "4Z2JFvMAk4nD"
      },
      "source": [
        "## Interpreting the Model\n",
        "\n",
        "One of the biggest advantages of ordinary least squares regression is that it is highly interpretable. By this, we mean to say that it's possible to look at the model parameter values and directly draw some conclusion or interpretion from it.\n",
        "\n",
        "That is, we can directly interpret the `slope` or `weight` parameter associated with `parent_sleep`, according to its value. In this case, with a value of `-8.9`, we can say:\n",
        "\n",
        "- A one \"unit\" increase in hours of sleep is associated with a -8.9367 \"unit\" decrease (because it is negative) in grumpiness. This should kind of make sense once you think about it too, i.e. more sleep = less grumpy!\n",
        "\n",
        "The other parameter in our model, the `intercept` or `bias` term, tells us what the model would predict if `X`, or `parent_sleep` in this case, were zero (0). (You can sort understand why it is referred to a bias term also, since it's the value you would get if you didn't have any information, so it's sort of a presupposed value, or bias.)\n",
        "If `parent_sleep` is zero, then `pare\n",
        "nt_grumpy` would be predicted to be 125.95. This means that if a parent gets no sleep at all their grumpiness will be at a very high level of 125.95!  Bad news."
      ]
    },
    {
      "cell_type": "markdown",
      "metadata": {
        "id": "Nx5H3eyLk4nD"
      },
      "source": [
        "***\n",
        "### Q5: Suppose that the _grumpiness_ scale is between 0 and 100. How would you explain or justify the prediction the model would make if a parent did not sleep at all the night before? Or, if they slept only one hour? What does this say about the model, is it a \"good\" or \"bad\" model?\n",
        "\n",
        "\\<input your answer here - and explain \\>\n",
        "\n",
        "***\n",
        "\n",
        "Note that this question is related to a famous saying in Statistics, which is \"*All models are wrong, but some are useful*\". This essentially says that every model has limitations, or is incorrect in some way, but can still make sense and yield useful results when used in the appropriate setting.\n",
        "\n",
        "![image](https://miro.medium.com/v2/resize:fit:1400/1*EJZZKiXLcbp_MxRW9HJrmA.jpeg)"
      ]
    },
    {
      "cell_type": "markdown",
      "metadata": {
        "id": "yOruLRgsk4nD"
      },
      "source": [
        "## Using the Model for Prediction\n",
        "\n",
        "Once the model has been fit or trained with the training data, we can now use it for predictions. In other words, with just the following equation it is possible to make a prediction for any new value of `x`, i.e. `parent_sleep`.\n",
        "$$y = 125.956292 + -8.936756 \\times x$$"
      ]
    },
    {
      "cell_type": "markdown",
      "metadata": {
        "id": "LhEH8vIzk4nD"
      },
      "source": [
        "***\n",
        "\n",
        "### Q5: Using only the trained model the parent now wants to make a prediction for tomorrow. Everything is going smooth so they antipicate getting a good night of sleep, or around `8.5` hours of sleep. What will their predicted level of grumpiness be tomorrow?\n",
        "\n",
        "\\<According to our modle, the parents expected level of grumpiness would be ~50\\>\n",
        "\n",
        "***"
      ]
    },
    {
      "cell_type": "code",
      "execution_count": null,
      "metadata": {
        "colab": {
          "base_uri": "https://localhost:8080/"
        },
        "id": "RWyKaRArk4nD",
        "outputId": "47c4dadf-db33-45e8-979c-e6d87abb83f0"
      },
      "outputs": [],
      "source": [
        "hours_of_sleep = 8.5\n",
        "X_new = pd.DataFrame({'parent_sleep': [hours_of_sleep]})\n",
        "lm.predict(X_new)"
      ]
    },
    {
      "cell_type": "markdown",
      "metadata": {
        "id": "X74RDdRpk4nD"
      },
      "source": [
        "## Plotting the least squares regression line\n",
        "\n",
        "Let's take a look at the best fit line.  There are two very easy ways to do this.  One is using seaborn's regplot which takes care of all of the underlying steps to plot the regression line."
      ]
    },
    {
      "cell_type": "code",
      "execution_count": null,
      "metadata": {
        "colab": {
          "base_uri": "https://localhost:8080/",
          "height": 467
        },
        "id": "_7vBWizuk4nD",
        "outputId": "667eafea-e6f6-4b5a-e7fb-52bf327b0494"
      },
      "outputs": [],
      "source": [
        "sns.regplot(x='parent_sleep', y='parent_grumpy', data=df)"
      ]
    },
    {
      "cell_type": "markdown",
      "metadata": {
        "id": "rRoukwXBk4nE"
      },
      "source": [
        "Alternatively, if we want more control over the plot, or want to make other modifications, then using matplotlib is often going to be preferred."
      ]
    },
    {
      "cell_type": "code",
      "execution_count": null,
      "metadata": {
        "colab": {
          "base_uri": "https://localhost:8080/",
          "height": 388
        },
        "id": "ibqd13TDk4nE",
        "outputId": "48de07ca-0018-477e-8b95-1e35ccac1ce0"
      },
      "outputs": [],
      "source": [
        "fig, ax = plt.subplots(figsize=(6.5,4))\n",
        "\n",
        "# create a DataFrame with the minimum and maximum values of sleep\n",
        "x1 = pd.DataFrame({'parent_sleep': [df.parent_sleep.min(), df.parent_sleep.max()]})\n",
        "y1 = lm.predict(x1)  # predict for the two data points using the fitted model in lm\n",
        "ax.plot(df.parent_sleep, df.parent_grumpy, 'ko', markersize=4)\n",
        "ax.plot(x1, y1, '-', color='steelblue', linewidth=1)\n",
        "plt.xlabel(\"parent_sleep\")\n",
        "plt.ylabel(\"parent_grumpy\")\n",
        "plt.show()"
      ]
    },
    {
      "cell_type": "markdown",
      "metadata": {
        "id": "_mUXui1Sk4nE"
      },
      "source": [
        "## Confidence in our Model\n",
        "\n",
        "As mentioned before, the **statsmodels** library offers some convience for more traditional statistics questions or tasks. One of those is getting an idea of how confident we are about the estimated values of the parameters. Looking at the confidence intervals for the parameter value estimates gives us a decent idea of whether the model fits this data reasonably well. Below we look at the 95% confidence interval, or the $(1-\\alpha)$% confidence interval.\n",
        "\n",
        "As you can see, although there is a range of possible values, the range is reasonably small, telling us that there is a high level of confidence these parameter values estimates are yielding a model that fits the data reasonably well. We have to be careful not to misinterpret this though, remember that the precise intrepretation of the confidence interval is...\n",
        "\n",
        "* If the population from which this sample was drawn was **sampled 100 times**, approximately **95 of those confidence intervals** would contain the \"true\" coefficient."
      ]
    },
    {
      "cell_type": "code",
      "execution_count": null,
      "metadata": {
        "colab": {
          "base_uri": "https://localhost:8080/",
          "height": 112
        },
        "id": "0mGss3uxk4nE",
        "outputId": "dbafcf7d-7ce9-4d1e-97db-69b8cba76e03"
      },
      "outputs": [],
      "source": [
        "# print the confidence intervals for the model coefficients\n",
        "sm_lm.conf_int(alpha=0.05)"
      ]
    },
    {
      "cell_type": "markdown",
      "metadata": {
        "id": "ZPRh0s_rk4nE"
      },
      "source": [
        "Since the **sklearn** package tends to take more of a machine learning approach it does not have some of the same functionality as statsmodels. However, with a few more steps, it is possible to calculate. It's possible though, and you should verify that the confidence intervals are the same as above."
      ]
    },
    {
      "cell_type": "code",
      "execution_count": null,
      "metadata": {
        "colab": {
          "base_uri": "https://localhost:8080/",
          "height": 112
        },
        "id": "VHWs_CYxk4nE",
        "outputId": "2120f8a9-c656-4797-c870-50563912d5a3"
      },
      "outputs": [],
      "source": [
        "# needs the stats module for getting appropriate t-values\n",
        "from scipy import stats\n",
        "\n",
        "def get_conf_int(alpha, lr, X, y):\n",
        "    coefs = np.r_[[lr.intercept_], lr.coef_]\n",
        "    X_aux = X.copy()\n",
        "    X_aux.insert(0, 'const', 1)\n",
        "    dof = -np.diff(X_aux.shape)[0]\n",
        "    mse = np.sum((y - lr.predict(X)) ** 2) / dof\n",
        "    var_params = np.diag(np.linalg.inv(X_aux.T.dot(X_aux)))\n",
        "    t_val = stats.t.isf(alpha/2, dof)\n",
        "    gap = t_val * np.sqrt(mse * var_params)\n",
        "\n",
        "    return pd.DataFrame({\n",
        "        'lower': coefs - gap, 'upper': coefs + gap\n",
        "    }, index=X_aux.columns)\n",
        "\n",
        "get_conf_int(0.05, lm, df[['parent_sleep']], df['parent_grumpy'])"
      ]
    },
    {
      "cell_type": "code",
      "execution_count": null,
      "metadata": {
        "colab": {
          "base_uri": "https://localhost:8080/"
        },
        "id": "SqxAMq16k4nF",
        "outputId": "85dd2049-0d8d-4c83-bb0d-a7edfb1670c3"
      },
      "outputs": [],
      "source": [
        "np.diff(df.shape)"
      ]
    },
    {
      "cell_type": "markdown",
      "metadata": {
        "id": "0lwCE4jOk4nF"
      },
      "source": [
        "Again, remember that we only have a **single sample of data**, and not the **entire population of data**. The \"true\" coefficient is either within this interval or it isn't, but there's no way to actually know. We estimate the coefficient with the data we do have, and we show uncertainty about that estimate by giving a range that the coefficient is **probably** within.\n",
        "\n",
        "Also note that using 95% confidence intervals is just a convention. We could create 90% confidence intervals (which will be more narrow), or 99% confidence intervals (which will be wider), or whatever intervals we think make the most sense for our analysis/task."
      ]
    },
    {
      "cell_type": "markdown",
      "metadata": {
        "id": "S4RnWXbak4nF"
      },
      "source": [
        "## Hypothesis Testing and p-values\n",
        "\n",
        "Closely related to confidence intervals is **hypothesis testing**. Generally speaking, we start with a **null hypothesis** and an **alternative hypothesis** (that is opposite the null). Then, we check whether the data supports **rejecting the null hypothesis** or **failing to reject the null hypothesis**.\n",
        "\n",
        "(Note that \"failing to reject\" the null is not the same as \"accepting\" the null hypothesis. The alternative hypothesis may indeed be true, except that we just don't have enough data to show that.)\n",
        "\n",
        "As it relates to model coefficients, here is the conventional hypothesis test:\n",
        "- **null hypothesis:** There is no relationship between dad sleep and grumpiness (and thus $\\beta_1$ equals zero)\n",
        "- **alternative hypothesis:** There is a relationship between dad sleep and dad grumpinss (and thus $\\beta_1$ is not equal to zero)"
      ]
    },
    {
      "cell_type": "code",
      "execution_count": null,
      "metadata": {
        "colab": {
          "base_uri": "https://localhost:8080/",
          "height": 147
        },
        "id": "RdXe9WBKk4nF",
        "outputId": "51995322-7be3-4c3e-8334-1e5b48b10fc9"
      },
      "outputs": [],
      "source": [
        "# print the p-values for the model coefficients\n",
        "sm_lm.pvalues"
      ]
    },
    {
      "cell_type": "markdown",
      "metadata": {
        "id": "8VZhN5gzk4nF"
      },
      "source": [
        "How do we test this hypothesis? Intuitively, we reject the null (and thus believe the alternative) if the 95% confidence interval **does not include zero**. That is generally much easier to intrepret than the p-value, which strictly speaking should be interpreted as follows:\n",
        "* If the null hypothesis is true, then the p-value is probability of observing the data that we did (and thus getting the model parameters that we did).\n",
        "\n",
        "In this case, since the the p-values are both so small, we can likely safely reject the null hypothesis in favor of the alternative.\n",
        "\n",
        "Note that we generally ignore the p-value for the intercept. So, focusing only on the model parameter associated with `parent_sleep`, and seeing a p-value far less than 0.05, we can conclude that there is a relationship between sleep and grumpiness."
      ]
    },
    {
      "cell_type": "markdown",
      "metadata": {
        "id": "dXx8z-90k4nF"
      },
      "source": [
        "## How Well Does the Model Fit the data?\n",
        "\n",
        "The most common way to evaluate the overall fit of a linear model is by the **R-squared** value. R-squared is calculated in such a way that it has the direct intrepretation of being the **proportion of variance explained**, meaning the proportion of variance in the observed data that is explained by the model, or the reduction in error over the **null model**. (The null model just predicts the mean of the observed response, and thus it has an intercept and no slope.)\n",
        "\n",
        "R-squared is between 0 and 1, and higher is better because it means that more variance is explained by the model. Here's an example of what R-squared might be for different models fit to the same dataset (but a different data than our parenthood data).\n",
        "\n",
        "![polyfits](https://github.com/sgeinitz/CS3120/blob/main/images/poly_fits.png?raw=true)\n",
        "\n",
        "You can see that the **blue line** explains some of the variance in the data (R-squared=0.54), the **green line** explains more of the variance (R-squared=0.64), and the **red line** fits the training data even further (R-squared=0.66). (No need to think about this too hard right now, but which of those possible"
      ]
    },
    {
      "cell_type": "markdown",
      "metadata": {
        "id": "uJsgY_ZKk4nF"
      },
      "source": [
        "Getting back to our parenthood datset, let's now calculate the R-squared value for our simple linear model."
      ]
    },
    {
      "cell_type": "code",
      "execution_count": null,
      "metadata": {
        "colab": {
          "base_uri": "https://localhost:8080/"
        },
        "id": "ComeKMphk4nG",
        "outputId": "de66f3ec-c354-444f-ee65-d7e0aa0d5095"
      },
      "outputs": [],
      "source": [
        "sm_lm.rsquared"
      ]
    },
    {
      "cell_type": "markdown",
      "metadata": {
        "id": "KbZ0g4hSk4nG"
      },
      "source": [
        "It's difficult to say what \"_good_\" R-squared value is. The threshold for a good R-squared value will depend widely on the domain and data. Therefore, it's most useful as a tool for **comparing different models**, rather than as saying that a single model is \"_good_\"."
      ]
    },
    {
      "cell_type": "markdown",
      "metadata": {
        "id": "tOz7glTRk4nG"
      },
      "source": [
        "Up until now we have been pulling information from the fitted model piece by piece. However, there is a nice summary command with **statsmodels** that lets you access a bunch of information about your regression at once. Don't worry about all of the other statistics and details listed there, just know that almost all of the information you'll ever need about a linear regression model can be found there."
      ]
    },
    {
      "cell_type": "code",
      "execution_count": null,
      "metadata": {
        "colab": {
          "base_uri": "https://localhost:8080/",
          "height": 452
        },
        "id": "hL8OaIV8k4nG",
        "outputId": "12cab00c-d03b-4540-a23f-c8e6a011ccf6"
      },
      "outputs": [],
      "source": [
        "sm_lm.summary()"
      ]
    },
    {
      "cell_type": "markdown",
      "metadata": {
        "id": "dMtXX4xEk4nG"
      },
      "source": [
        "## Training a Linear Regression Manually\n",
        "\n",
        "We saw how easy it is to use Python to fit (i.e. train) a linear regression model. Let's go ahead and confirm that the manual approaches we've seen, and the intuition behind them also make sense.\n",
        "\n",
        "Most often we'll see a linear regression defined for one $i^{th}$ observation or training example. Which, for the feature $x_i$ and outcome $y_i$, is written as:\n",
        "$$y_i = \\beta_0 1 + \\beta_1 x_i$$\n",
        "\n",
        "However, we also saw that this can be written in vector or matrix notation where the matrix, $X$, has a column of 1's in it.\n",
        "$$\\vec{y} = X \\vec{\\beta}$$\n",
        "where\n",
        "$$\\vec{\\beta} = \\begin{bmatrix}\\beta_0 \\\\ \\beta_1\\end{bmatrix}$$\n",
        "Then, since (or if) the columns of the matrix $X$ are linearly independent, then the matrix $(X^T X)$ has an inverse, and the model parameters can be calculated directly using:\n",
        "$$\\vec{\\beta} = (X^T X)^{-1} X^T \\vec{y}$$\n",
        "\n",
        "Let's now confirm this works using the parenthood data. We'll first create the matrix $X$, being sure to add a $1$ column since that is needed to estimate $\\beta_0$.\n"
      ]
    },
    {
      "cell_type": "code",
      "execution_count": null,
      "metadata": {
        "colab": {
          "base_uri": "https://localhost:8080/",
          "height": 143
        },
        "id": "hf_qNBqkk4nG",
        "outputId": "e1080fb4-a289-46f2-befb-6ae07a3f0058"
      },
      "outputs": [],
      "source": [
        "X = pd.DataFrame({'intercept': 1, 'parent_sleep': df.parent_sleep})\n",
        "X.head(n=3)"
      ]
    },
    {
      "cell_type": "markdown",
      "metadata": {
        "id": "w3Hn2bEuk4nG"
      },
      "source": [
        "Let's now do all of the remaining calculations, one step at a time."
      ]
    },
    {
      "cell_type": "code",
      "execution_count": null,
      "metadata": {
        "colab": {
          "base_uri": "https://localhost:8080/"
        },
        "id": "d5yipMUNk4nG",
        "outputId": "86e87396-b8c5-4d86-a6b3-daa8f07ae074"
      },
      "outputs": [],
      "source": [
        "# Calculate X^T X\n",
        "XtX = np.dot(X.T, X)\n",
        "\n",
        "# Then the inverse of X^T X\n",
        "XtX_inv = np.linalg.inv(XtX)\n",
        "\n",
        "# Then X^T y\n",
        "Xty = np.dot(X.T, df.parent_grumpy)\n",
        "\n",
        "# And lastly the coefficients\n",
        "betas = np.dot(XtX_inv, Xty)\n",
        "betas"
      ]
    },
    {
      "cell_type": "markdown",
      "metadata": {
        "id": "dv4SIkepk4nG"
      },
      "source": [
        "While the linear algebra approach is useful for understanding the underlying math from another point of view, it not immediately intuitive why it works. The following diagram is maybe the best attempt at trying to explain the intuition behind this linear algebra approach.\n",
        "\n",
        "![projection](https://github.com/sgeinitz/CS3120/blob/main/images/projection.png?raw=true)\n",
        "\n",
        "That image is telling us that the any prediction coming out of our model is going to be in the column space of $X$ (i.e. it will lay in a space that spanned by all possible linear combinations of the columns of $X$.) It is not super important that you know this, but it's a fun alternative way to see how linear regression models are fit to their data.\n",
        "\n",
        "The more intuitive way to explain how we fit a linear regression model is by looking more precisely at that quantity we want to minimize, namely the SSE:\n",
        "$$\\text{SSE} = \\sum_{i=1}^{n} (y_i - \\hat{y}_i)^2$$\n",
        "\n",
        "Recall that since $\\hat{y}_i$ is a the prediction for the $i^{th}$ observation, we can write it as $\\beta_0 + \\beta_1 x_i$, and thus rewrite SSE as:\n",
        "$$\\text{SSE} = \\sum_{i=1}^{n} \\left(y_i - (\\beta_0 + \\beta_1 x_i)\\right)^2$$\n",
        "\n",
        "Since there are two parameters, $\\beta_0, \\beta_1$, it's easy for us to visualize what the SSE looks like as a function of these two parameters. Below is a heatmap or surface plot of these. Again, to train the model we need to find the model parameter values that minimize SSE. Look at the plot below to see if you can roughly guess what the parameter values are."
      ]
    },
    {
      "cell_type": "code",
      "execution_count": null,
      "metadata": {
        "colab": {
          "base_uri": "https://localhost:8080/",
          "height": 845
        },
        "id": "0plYAtBak4nG",
        "outputId": "c240ecf9-fd40-4aba-92c7-479977bda7fc"
      },
      "outputs": [],
      "source": [
        "beta0_range = 25\n",
        "beta0 = np.arange(lm.intercept_+beta0_range, lm.intercept_-beta0_range, -0.5)\n",
        "beta1_range = 4\n",
        "beta1 = np.arange(lm.coef_[0]-beta1_range, lm.coef_[0]+beta1_range, 0.1)\n",
        "surf = np.array( [[np.square(df.parent_grumpy - (beta0[i] + beta1[j]*df.parent_sleep)).sum() for j in range(len(beta1))] for i in range(len(beta0))] )\n",
        "df_surf = pd.DataFrame(surf, columns=beta1, index=beta0)\n",
        "\n",
        "fig, ax = plt.subplots(figsize=(10, 8))\n",
        "sns.heatmap(df_surf, cbar_kws={'label': 'SSE'}, cmap=\"RdYlGn_r\", ax=ax)\n",
        "ax.contour(np.arange(.5, df_surf.shape[1]), np.arange(.5, df_surf.shape[0]), df_surf, colors='black', levels=[1960, 9000, 50000, 150000], linewidths=0.5)\n",
        "\n",
        "plt.xlabel(\"beta1\")\n",
        "plt.ylabel(\"beta0\")\n",
        "plt.show()\n"
      ]
    },
    {
      "cell_type": "markdown",
      "metadata": {
        "id": "ZaiaYglsk4nH"
      },
      "source": [
        "You probably already figured out how to find the parameter values above, which is to look at the values of $beta_0$ and $\\beta_1$ that corresponded to the lowest point on the surface. We can look the data used in the plot and see here."
      ]
    },
    {
      "cell_type": "code",
      "execution_count": null,
      "metadata": {
        "colab": {
          "base_uri": "https://localhost:8080/"
        },
        "id": "iZ1yJVlUk4nH",
        "outputId": "6ba64379-cdd2-4659-9d5c-230f2304a390"
      },
      "outputs": [],
      "source": [
        "# find the minimum of the surface\n",
        "beta0_min, beta1_min = np.unravel_index(surf.argmin(), surf.shape)\n",
        "beta0[beta0_min], beta1[beta1_min]"
      ]
    },
    {
      "cell_type": "markdown",
      "metadata": {
        "id": "jp1vY6VLk4nH"
      },
      "source": [
        "Notice that those values are nearly exactly what we found using **statsmodels**, **sklearn**, as well as the linear algebra approach. Let's try one more way of finding these parameter values now. For this we'll use calculus to solve for values of $\\beta_0$ and $\\beta_1$ that give us the minimum on the surface above (i.e. the value where the slope of the surface is zero).\n",
        "\n",
        "If you recall from Calculus class, we simply need to write the SSE as a function of the model parameters, $\\beta_0$, $\\beta_1$, and set it to zero, then solve. It's not important that you know how to do this exactly, but it's important to know that this is yet another way to think about \"_training_\" a linear regression model. Let's first explicitly state that the SSE is a function of the model parameters:\n",
        "$$\\text{SSE}(\\beta_0, \\beta_1) = \\sum_{i=1}^{n} \\left( y_i - (\\beta_0 + \\beta_1 x_i) \\right)^2$$\n"
      ]
    },
    {
      "cell_type": "markdown",
      "metadata": {
        "id": "2s1ZU2Qyk4nH"
      },
      "source": [
        "Steps to Solve for $\\beta_0$ and $\\beta_1$ Using Calculus\n",
        "\n",
        "1. Partial Derivatives\n",
        "   - To minimize SSE, take the partial derivatives of SSE with respect to $\\beta_0$ and $\\beta_1$, and set them equal to zero.\n",
        "\n",
        "   Partial Derivative with respect to $\\beta_0$:\n",
        "   $$\\frac{\\partial \\text{SSE}}{\\partial \\beta_0} = \\sum_{i=1}^{n} -2 \\cdot \\left( y_i - \\beta_0 - \\beta_1 \\cdot x_i \\right) = 0$$\n",
        "\n",
        "   Partial Derivative with respect to $\\beta_1$:\n",
        "   $$\\frac{\\partial \\text{SSE}}{\\partial \\beta_1} = \\sum_{i=1}^{n} -2 \\cdot x_i \\cdot \\left( y_i - \\beta_0 - \\beta_1 \\cdot x_i \\right) = 0$$\n",
        "\n",
        "2. Simplify the Equations\n",
        "   - Simplify the partial derivative equations to form two normal equations.\n",
        "\n",
        "   For $\\beta_0$:\n",
        "   $$\\sum_{i=1}^{n} \\left( y_i - \\beta_0 - \\beta_1 \\cdot x_i \\right) = 0$$\n",
        "   - Expanding and beginning to isolate $\\beta_0$, we get:\n",
        "   $$\\sum_{i=1}^{n} y_i - n \\cdot \\beta_0 + \\beta_1 \\sum_{i=1}^{n} x_i = 0 \\quad \\rightarrow \\quad n \\cdot \\beta_0 = \\sum_{i=1}^{n} y_i -\\beta_1 \\cdot \\sum_{i=1}^{n} x_i $$\n",
        "   - Divide by $n$ to get:\n",
        "   $$\\beta_0 = \\bar{y} - \\beta_1 \\cdot \\bar{x}$$\n",
        "   where $\\bar{y} = \\frac{1}{n} \\sum_{i=1}^{n} y_i$ and $\\bar{x} = \\frac{1}{n} \\sum_{i=1}^{n} x_i$ are the means of $y$ and $x$, respectively.\n",
        "\n",
        "   For $\\beta_1$:\n",
        "   $$\\sum_{i=1}^{n} x_i \\cdot y_i = \\beta_0 \\cdot \\sum_{i=1}^{n} x_i + \\beta_1 \\cdot \\sum_{i=1}^{n} x_i^2$$\n",
        "   - Substitute $\\beta_0 = \\bar{y} - \\beta_1 \\cdot \\bar{x}$ into this equation:\n",
        "   $$\\sum_{i=1}^{n} x_i \\cdot y_i = (\\bar{y} - \\beta_1 \\cdot \\bar{x}) \\cdot \\sum_{i=1}^{n} x_i + \\beta_1 \\cdot \\sum_{i=1}^{n} x_i^2$$\n",
        "   - After expanding and simplifying:\n",
        "   $$\\beta_1 = \\frac{\\sum_{i=1}^{n} \\left( x_i - \\bar{x} \\right) \\left( y_i - \\bar{y} \\right)}{\\sum_{i=1}^{n} \\left( x_i - \\bar{x} \\right)^2}$$\n",
        "\n",
        "Let's now use these formulas to \"train\" the model (i.e. calculate the values of the parameters $\\beta_0$, $\\beta_1$) for our given training dataset.\n"
      ]
    },
    {
      "cell_type": "code",
      "execution_count": null,
      "metadata": {
        "colab": {
          "base_uri": "https://localhost:8080/"
        },
        "id": "Ajx1MSV9k4nH",
        "outputId": "c71e6187-ac7d-4a53-a55f-eb64cd4be69c"
      },
      "outputs": [],
      "source": [
        "n = df.shape[0] # this is the number of observations or training examples\n",
        "b1_numerator = np.sum((df.parent_grumpy - df.parent_grumpy.mean()) * (df.parent_sleep - df.parent_sleep.mean()))\n",
        "b1_denominator = np.sum((df.parent_sleep - df.parent_sleep.mean()) ** 2)\n",
        "beta1_hat = b1_numerator / b1_denominator\n",
        "\n",
        "beta0_hat = df.parent_grumpy.mean() - beta1_hat * df.parent_sleep.mean()\n",
        "(beta0_hat, beta1_hat)"
      ]
    },
    {
      "cell_type": "markdown",
      "metadata": {
        "id": "0gCqAVJBk4nH"
      },
      "source": [
        "As you can see, those values are the exact same as we found earlier. You may have noticed that the formulas we found for $\\beta_0$ and $\\beta_1$ above contain some terms that look similar to variance and covariance calculations. Given that, we could also calculate these values in a more concise manner using **numpy's** functions for these descriptive statistics."
      ]
    },
    {
      "cell_type": "code",
      "execution_count": null,
      "metadata": {
        "colab": {
          "base_uri": "https://localhost:8080/"
        },
        "id": "gkZQlud0k4nH",
        "outputId": "2ff9fb4e-c174-4b21-aa92-42989e62f5e0"
      },
      "outputs": [],
      "source": [
        "cov = np.cov(df.parent_sleep, df.parent_grumpy, ddof=0) # calculate the covariance of x=df.parent_sleep and y=df.parent_grumpy\n",
        "var_x = np.var(df.parent_sleep, ddof=0) # calculate the variance of x=df.parent_sleep\n",
        "\n",
        "beta1_hat = cov[0,1] / var_x\n",
        "beta0_hat = df.parent_grumpy.mean() - beta1_hat * df.parent_sleep.mean()\n",
        "(beta0_hat, beta1_hat)"
      ]
    },
    {
      "cell_type": "markdown",
      "metadata": {
        "id": "R5r4FX9Rk4nH"
      },
      "source": [
        "Hopefully it is somewhat satisfying to see that regardless of the approach we used, we still come up with the same model fit (i.e. the model parameters have the same values). We won't look at them here, but there are even more ways to state these formulas, including with the correlation between $x$ and $y$.\n",
        "\n",
        "Next, let's assume that when the data was collected, the amount of sleep a parent had was recorded in minuts. The cell below creates this column, `parent_sleep_minutes`. Use this for the following question."
      ]
    },
    {
      "cell_type": "code",
      "execution_count": null,
      "metadata": {
        "colab": {
          "base_uri": "https://localhost:8080/",
          "height": 335
        },
        "id": "G8vBTL8hk4nH",
        "outputId": "e06d1c10-7ab1-4816-c83a-da7eae5d9506"
      },
      "outputs": [],
      "source": [
        "df['parent_sleep_minutes'] = df['parent_sleep']*60\n",
        "df.parent_sleep_minutes.describe()"
      ]
    },
    {
      "cell_type": "markdown",
      "metadata": {
        "id": "YQKZvxVHk4nH"
      },
      "source": [
        " ***\n",
        "\n",
        " ### Q6: Fit a new linear regression model with **statsmodels** where `parent_sleep_minutes` is used to predict `parent_grumpy`. Does this affect the model parameter estimates? Are they the same? Or different?\n",
        "\n",
        " \\<This does not affect the estimate, they are the same, just more points on the plot. Numerically their values are differnt, but every 60 ticks of data we would get the same data line up.\\>\n",
        "\n",
        " ***"
      ]
    },
    {
      "cell_type": "code",
      "execution_count": null,
      "metadata": {
        "colab": {
          "base_uri": "https://localhost:8080/",
          "height": 147
        },
        "id": "kiNOab-jk4nI",
        "outputId": "9a714030-7a81-4144-a886-07c248895ecf"
      },
      "outputs": [],
      "source": [
        "sm_lm_min = smf.ols(formula='parent_grumpy ~ parent_sleep_minutes', data=df).fit()\n",
        "sm_lm_min.params"
      ]
    },
    {
      "cell_type": "markdown",
      "metadata": {
        "id": "4-Zjux_Zk4nI"
      },
      "source": [
        "***\n",
        "\n",
        "### Q7: Does having `parent_sleep` measured in different units affect how well the model fits the data? In other words, is the $R^2$ different from when `parent_sleep` was measured in hours? Also, are the p-values associated with $\\beta_0$, $\\beta_1$ different? What does this tell you about how linear regression models are affected by a variable being scaled?\n",
        "\n",
        "\\<The units do not affect how our model fits the data, only giving us more accuracy over our predictions down to the minute. The R^2 is the same as well a the B0 and the B1 values. This tells me that if we need more or less accuracy, we can adjust the units of mesure to our needs.\\>\n",
        "\n",
        "***"
      ]
    },
    {
      "cell_type": "code",
      "execution_count": null,
      "metadata": {
        "colab": {
          "base_uri": "https://localhost:8080/",
          "height": 486
        },
        "id": "EHIn1QbWn3r-",
        "outputId": "5c3d9638-02e0-4e05-dc3f-c747fd611f02"
      },
      "outputs": [],
      "source": [
        "sm_lm_min.summary()"
      ]
    },
    {
      "cell_type": "markdown",
      "metadata": {
        "id": "2vnkTx6Wk4nI"
      },
      "source": [
        "### Multiple Linear Regression\n",
        "\n",
        "What we've looked at so far is commonly referred to as *Simple Linear Regression*, which is when there is one *predictor* (or *feature* or *independent variable*), $x$, and we are trying to predict the *outcome* or *response* or *dependent variable*, $y$. Linear Regression is a powerful and commonly used tool though, so you can imagine that it's not too difficult to add more predictors. Below is an example where we'll try fitting a *Multiple linear Regression* model, which is a linear regression model with more two or more *predictors* (or *features* or *independent variables*).\n",
        "\n",
        "The dataset is a (hypothetical) company's advertising spend and sales they have made for each day. There are four columns in the data:\n",
        "* `tv` - amount of money spent on television advertising last week\n",
        "* `radio` - amount of money spent on radio advertising last week\n",
        "* `newspaper` - amount of money spent on newpaper advertising last week\n",
        "* `sales` - number of widgets (in thousands) the company sold last week"
      ]
    },
    {
      "cell_type": "code",
      "execution_count": null,
      "metadata": {
        "colab": {
          "base_uri": "https://localhost:8080/",
          "height": 206
        },
        "id": "cuijZ7Muk4nI",
        "outputId": "cd3ebc19-7b01-4a2f-fbe4-0e762294c90c"
      },
      "outputs": [],
      "source": [
        "df_adv = pd.read_csv('https://raw.githubusercontent.com/sgeinitz/CS3120/main/lab1_data_advertising.csv')\n",
        "df_adv.head()"
      ]
    },
    {
      "cell_type": "markdown",
      "metadata": {
        "id": "ek2OMxYVk4nI"
      },
      "source": [
        "Let's also get a quick idea of what the data looks like in terms of min, max, mean, etc."
      ]
    },
    {
      "cell_type": "code",
      "execution_count": null,
      "metadata": {
        "colab": {
          "base_uri": "https://localhost:8080/",
          "height": 300
        },
        "id": "jIOE1MQ-k4nI",
        "outputId": "92007873-b433-41e0-b08a-a5c829032379"
      },
      "outputs": [],
      "source": [
        "df_adv.describe()"
      ]
    },
    {
      "cell_type": "markdown",
      "metadata": {
        "id": "3kJi_l6rk4nI"
      },
      "source": [
        "***\n",
        "\n",
        " ### Q8: As we said, any data analysis or modeling task first requires looking at or visualizing the data. Plot the each of the independent variables (`tv`, `radio`, `newspaper`) against the dependent variable, `sales`. Then state which of them you think looks like it going to best predict `sales`.\n",
        "\n",
        "\\<It looks like TV is a better indicator of sales.\\>\n",
        "\n",
        "***\n",
        "\n",
        "If you can, try to put all of the plots together in a single figure."
      ]
    },
    {
      "cell_type": "code",
      "execution_count": null,
      "metadata": {
        "colab": {
          "base_uri": "https://localhost:8080/",
          "height": 465
        },
        "id": "IIz0WpGCk4nI",
        "outputId": "ae448750-970a-43c1-d5bd-69eb2a4f230a"
      },
      "outputs": [],
      "source": [
        "# plot all three of the features against sales\n",
        "fig, (ax1, ax2, ax3) = plt.subplots(1, 3, figsize=(15, 5))\n",
        "sns.scatterplot(data=df_adv, x='tv', y='sales', ax=ax1)\n",
        "sns.scatterplot(data=df_adv, x='radio', y='sales', ax=ax2)\n",
        "sns.scatterplot(data=df_adv, x='newspaper', y='sales', ax=ax3)\n",
        "plt.show()\n"
      ]
    },
    {
      "cell_type": "markdown",
      "metadata": {
        "id": "kht-WLtsk4nI"
      },
      "source": [
        "Next, let's fit a linear regression model using all three variables."
      ]
    },
    {
      "cell_type": "code",
      "execution_count": null,
      "metadata": {
        "colab": {
          "base_uri": "https://localhost:8080/",
          "height": 494
        },
        "id": "EOPK-Wywk4nI",
        "outputId": "727770c0-55a1-44d7-ced0-d4e48e19ea9e"
      },
      "outputs": [],
      "source": [
        "lm_adv = smf.ols(formula='sales ~ tv + radio + newspaper', data=df_adv).fit()\n",
        "lm_adv.summary()"
      ]
    },
    {
      "cell_type": "markdown",
      "metadata": {
        "id": "oJh0Sj5nk4nJ"
      },
      "source": [
        "It looks like that model fits pretty well. But, based on the plots you saw above, it looks like there is not an exact linear relationship between `tv` and `sales`...\n",
        "\n",
        "***\n",
        "\n",
        "### Q9: Try fitting a model to this dataset with `radio` and `newspaper` included, but use the square root of `tv`. Then print the summary of the model to see the $R^2$. If you worked for this company, which model do you think you would use? The one above or this new one you created here? Explain why.\n",
        "\n",
        "\\<I would use the one we made because it has an R^2 of .929 instead of .897. This means our values are closer to the predictions than our older models.>\n",
        "\n",
        "***\n",
        "\n",
        "Hints:\n",
        "* Use [this reference](https://www.statsmodels.org/dev/example_formulas.html#functions) to see how to include a function of an independent variable in your model\n",
        "* The function, `np.sqrt( )` is numpy's square root function"
      ]
    },
    {
      "cell_type": "code",
      "execution_count": null,
      "metadata": {
        "colab": {
          "base_uri": "https://localhost:8080/",
          "height": 494
        },
        "id": "rMpn0cBqk4nJ",
        "outputId": "df9d88cc-7f18-4f00-eee9-2b95f08a0f7e"
      },
      "outputs": [],
      "source": [
        "lm_adv = smf.ols(formula='sales ~ np.sqrt(tv) + radio + newspaper', data=df_adv).fit()\n",
        "lm_adv.summary()"
      ]
    },
    {
      "cell_type": "markdown",
      "metadata": {
        "id": "DCfcNig8k4nJ"
      },
      "source": [
        "Nice work completing this notebook. If you didn't already appreciate the power of linear regression, hopefully this helped convince you in some way. Even though we will use lots of other types of models, you will almost always want to start with linear regression because of its simplicity, stability, and flexibility. We'll always want to use the *right model for the task at hand* though, so we probably don't want to be too much like either of the people below :)\n",
        "\n",
        "![Example Image](https://media.licdn.com/dms/image/v2/D4E22AQFLVt8372oIQA/feedshare-shrink_800/feedshare-shrink_800/0/1710511681665?e=1727308800&v=beta&t=XephAeg6t9otHgyXtIHxbYiAxJdKOkH0uP0pU9eP2oY)\n"
      ]
    }
  ],
  "metadata": {
    "colab": {
      "provenance": []
    },
    "kernelspec": {
      "display_name": "Python 3 (ipykernel)",
      "language": "python",
      "name": "python3"
    },
    "language_info": {
      "codemirror_mode": {
        "name": "ipython",
        "version": 3
      },
      "file_extension": ".py",
      "mimetype": "text/x-python",
      "name": "python",
      "nbconvert_exporter": "python",
      "pygments_lexer": "ipython3",
      "version": "3.12.4"
    },
    "toc": {
      "base_numbering": 1,
      "nav_menu": {},
      "number_sections": true,
      "sideBar": true,
      "skip_h1_title": false,
      "title_cell": "Table of Contents",
      "title_sidebar": "Contents",
      "toc_cell": false,
      "toc_position": {},
      "toc_section_display": true,
      "toc_window_display": false
    },
    "widgets": {
      "application/vnd.jupyter.widget-state+json": {
        "014783fbec5841ab8fbebe77c5412abf": {
          "model_module": "@jupyter-widgets/controls",
          "model_module_version": "1.5.0",
          "model_name": "SliderStyleModel",
          "state": {
            "_model_module": "@jupyter-widgets/controls",
            "_model_module_version": "1.5.0",
            "_model_name": "SliderStyleModel",
            "_view_count": null,
            "_view_module": "@jupyter-widgets/base",
            "_view_module_version": "1.2.0",
            "_view_name": "StyleView",
            "description_width": "",
            "handle_color": null
          }
        },
        "0e5e49878005460a98291c868efcc571": {
          "model_module": "@jupyter-widgets/output",
          "model_module_version": "1.0.0",
          "model_name": "OutputModel",
          "state": {
            "_dom_classes": [],
            "_model_module": "@jupyter-widgets/output",
            "_model_module_version": "1.0.0",
            "_model_name": "OutputModel",
            "_view_count": null,
            "_view_module": "@jupyter-widgets/output",
            "_view_module_version": "1.0.0",
            "_view_name": "OutputView",
            "layout": "IPY_MODEL_e8dec73a7238416a90bd4331a2b8d904",
            "msg_id": "",
            "outputs": [
              {
                "data": {
                  "image/png": "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\n",
                  "text/plain": "<Figure size 900x600 with 1 Axes>"
                },
                "metadata": {},
                "output_type": "display_data"
              }
            ]
          }
        },
        "109da259b483457295b966a61005ad44": {
          "model_module": "@jupyter-widgets/base",
          "model_module_version": "1.2.0",
          "model_name": "LayoutModel",
          "state": {
            "_model_module": "@jupyter-widgets/base",
            "_model_module_version": "1.2.0",
            "_model_name": "LayoutModel",
            "_view_count": null,
            "_view_module": "@jupyter-widgets/base",
            "_view_module_version": "1.2.0",
            "_view_name": "LayoutView",
            "align_content": null,
            "align_items": null,
            "align_self": null,
            "border": null,
            "bottom": null,
            "display": null,
            "flex": null,
            "flex_flow": null,
            "grid_area": null,
            "grid_auto_columns": null,
            "grid_auto_flow": null,
            "grid_auto_rows": null,
            "grid_column": null,
            "grid_gap": null,
            "grid_row": null,
            "grid_template_areas": null,
            "grid_template_columns": null,
            "grid_template_rows": null,
            "height": null,
            "justify_content": null,
            "justify_items": null,
            "left": null,
            "margin": null,
            "max_height": null,
            "max_width": null,
            "min_height": null,
            "min_width": null,
            "object_fit": null,
            "object_position": null,
            "order": null,
            "overflow": null,
            "overflow_x": null,
            "overflow_y": null,
            "padding": null,
            "right": null,
            "top": null,
            "visibility": null,
            "width": null
          }
        },
        "24841257a433432bb7db7b5d49e5def7": {
          "model_module": "@jupyter-widgets/controls",
          "model_module_version": "1.5.0",
          "model_name": "VBoxModel",
          "state": {
            "_dom_classes": [
              "widget-interact"
            ],
            "_model_module": "@jupyter-widgets/controls",
            "_model_module_version": "1.5.0",
            "_model_name": "VBoxModel",
            "_view_count": null,
            "_view_module": "@jupyter-widgets/controls",
            "_view_module_version": "1.5.0",
            "_view_name": "VBoxView",
            "box_style": "",
            "children": [
              "IPY_MODEL_763b1d47b6804c418da98c26b315eee2",
              "IPY_MODEL_3d0aac6d80a1483e8edaf1be89b51dfb",
              "IPY_MODEL_0e5e49878005460a98291c868efcc571"
            ],
            "layout": "IPY_MODEL_cb5e41b6f7a046a582309ee19e1b6f81"
          }
        },
        "36942defd94446b5af507b815b1dab0f": {
          "model_module": "@jupyter-widgets/controls",
          "model_module_version": "1.5.0",
          "model_name": "VBoxModel",
          "state": {
            "_dom_classes": [
              "widget-interact"
            ],
            "_model_module": "@jupyter-widgets/controls",
            "_model_module_version": "1.5.0",
            "_model_name": "VBoxModel",
            "_view_count": null,
            "_view_module": "@jupyter-widgets/controls",
            "_view_module_version": "1.5.0",
            "_view_name": "VBoxView",
            "box_style": "",
            "children": [
              "IPY_MODEL_83db5eea51fb433197e5d35e272d4c1e",
              "IPY_MODEL_6bcac1a550d84e20b3ef1e3bfb4438b6",
              "IPY_MODEL_5aab0d3532a74298be3c30ab07e69632"
            ],
            "layout": "IPY_MODEL_dba245a0563d4fb592b37501b3a07443"
          }
        },
        "3d0aac6d80a1483e8edaf1be89b51dfb": {
          "model_module": "@jupyter-widgets/controls",
          "model_module_version": "1.5.0",
          "model_name": "IntSliderModel",
          "state": {
            "_dom_classes": [],
            "_model_module": "@jupyter-widgets/controls",
            "_model_module_version": "1.5.0",
            "_model_name": "IntSliderModel",
            "_view_count": null,
            "_view_module": "@jupyter-widgets/controls",
            "_view_module_version": "1.5.0",
            "_view_name": "IntSliderView",
            "continuous_update": true,
            "description": "intercept",
            "description_tooltip": null,
            "disabled": false,
            "layout": "IPY_MODEL_7eaa407f2e4d4892a184ccbb05a5c668",
            "max": 200,
            "min": 0,
            "orientation": "horizontal",
            "readout": true,
            "readout_format": "d",
            "step": 1,
            "style": "IPY_MODEL_aea242a0e52a48e6837e43db016fcb5b",
            "value": 140
          }
        },
        "43b43d610630447a965702a4528ae3ee": {
          "model_module": "@jupyter-widgets/base",
          "model_module_version": "1.2.0",
          "model_name": "LayoutModel",
          "state": {
            "_model_module": "@jupyter-widgets/base",
            "_model_module_version": "1.2.0",
            "_model_name": "LayoutModel",
            "_view_count": null,
            "_view_module": "@jupyter-widgets/base",
            "_view_module_version": "1.2.0",
            "_view_name": "LayoutView",
            "align_content": null,
            "align_items": null,
            "align_self": null,
            "border": null,
            "bottom": null,
            "display": null,
            "flex": null,
            "flex_flow": null,
            "grid_area": null,
            "grid_auto_columns": null,
            "grid_auto_flow": null,
            "grid_auto_rows": null,
            "grid_column": null,
            "grid_gap": null,
            "grid_row": null,
            "grid_template_areas": null,
            "grid_template_columns": null,
            "grid_template_rows": null,
            "height": null,
            "justify_content": null,
            "justify_items": null,
            "left": null,
            "margin": null,
            "max_height": null,
            "max_width": null,
            "min_height": null,
            "min_width": null,
            "object_fit": null,
            "object_position": null,
            "order": null,
            "overflow": null,
            "overflow_x": null,
            "overflow_y": null,
            "padding": null,
            "right": null,
            "top": null,
            "visibility": null,
            "width": null
          }
        },
        "476c704145954ca88464a76ddc688dce": {
          "model_module": "@jupyter-widgets/controls",
          "model_module_version": "1.5.0",
          "model_name": "SliderStyleModel",
          "state": {
            "_model_module": "@jupyter-widgets/controls",
            "_model_module_version": "1.5.0",
            "_model_name": "SliderStyleModel",
            "_view_count": null,
            "_view_module": "@jupyter-widgets/base",
            "_view_module_version": "1.2.0",
            "_view_name": "StyleView",
            "description_width": "",
            "handle_color": null
          }
        },
        "5aab0d3532a74298be3c30ab07e69632": {
          "model_module": "@jupyter-widgets/output",
          "model_module_version": "1.0.0",
          "model_name": "OutputModel",
          "state": {
            "_dom_classes": [],
            "_model_module": "@jupyter-widgets/output",
            "_model_module_version": "1.0.0",
            "_model_name": "OutputModel",
            "_view_count": null,
            "_view_module": "@jupyter-widgets/output",
            "_view_module_version": "1.0.0",
            "_view_name": "OutputView",
            "layout": "IPY_MODEL_7efb11e0c6f349d3acb9036414d0aa58",
            "msg_id": "",
            "outputs": [
              {
                "data": {
                  "image/png": "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\n",
                  "text/plain": "<Figure size 900x600 with 1 Axes>"
                },
                "metadata": {},
                "output_type": "display_data"
              }
            ]
          }
        },
        "6bcac1a550d84e20b3ef1e3bfb4438b6": {
          "model_module": "@jupyter-widgets/controls",
          "model_module_version": "1.5.0",
          "model_name": "IntSliderModel",
          "state": {
            "_dom_classes": [],
            "_model_module": "@jupyter-widgets/controls",
            "_model_module_version": "1.5.0",
            "_model_name": "IntSliderModel",
            "_view_count": null,
            "_view_module": "@jupyter-widgets/controls",
            "_view_module_version": "1.5.0",
            "_view_name": "IntSliderView",
            "continuous_update": true,
            "description": "intercept",
            "description_tooltip": null,
            "disabled": false,
            "layout": "IPY_MODEL_109da259b483457295b966a61005ad44",
            "max": 200,
            "min": 0,
            "orientation": "horizontal",
            "readout": true,
            "readout_format": "d",
            "step": 1,
            "style": "IPY_MODEL_014783fbec5841ab8fbebe77c5412abf",
            "value": 140
          }
        },
        "763b1d47b6804c418da98c26b315eee2": {
          "model_module": "@jupyter-widgets/controls",
          "model_module_version": "1.5.0",
          "model_name": "IntSliderModel",
          "state": {
            "_dom_classes": [],
            "_model_module": "@jupyter-widgets/controls",
            "_model_module_version": "1.5.0",
            "_model_name": "IntSliderModel",
            "_view_count": null,
            "_view_module": "@jupyter-widgets/controls",
            "_view_module_version": "1.5.0",
            "_view_name": "IntSliderView",
            "continuous_update": true,
            "description": "slope",
            "description_tooltip": null,
            "disabled": false,
            "layout": "IPY_MODEL_b8f7dbe533ae439ab6898cf2304ce038",
            "max": 20,
            "min": -20,
            "orientation": "horizontal",
            "readout": true,
            "readout_format": "d",
            "step": 1,
            "style": "IPY_MODEL_476c704145954ca88464a76ddc688dce",
            "value": -11
          }
        },
        "7eaa407f2e4d4892a184ccbb05a5c668": {
          "model_module": "@jupyter-widgets/base",
          "model_module_version": "1.2.0",
          "model_name": "LayoutModel",
          "state": {
            "_model_module": "@jupyter-widgets/base",
            "_model_module_version": "1.2.0",
            "_model_name": "LayoutModel",
            "_view_count": null,
            "_view_module": "@jupyter-widgets/base",
            "_view_module_version": "1.2.0",
            "_view_name": "LayoutView",
            "align_content": null,
            "align_items": null,
            "align_self": null,
            "border": null,
            "bottom": null,
            "display": null,
            "flex": null,
            "flex_flow": null,
            "grid_area": null,
            "grid_auto_columns": null,
            "grid_auto_flow": null,
            "grid_auto_rows": null,
            "grid_column": null,
            "grid_gap": null,
            "grid_row": null,
            "grid_template_areas": null,
            "grid_template_columns": null,
            "grid_template_rows": null,
            "height": null,
            "justify_content": null,
            "justify_items": null,
            "left": null,
            "margin": null,
            "max_height": null,
            "max_width": null,
            "min_height": null,
            "min_width": null,
            "object_fit": null,
            "object_position": null,
            "order": null,
            "overflow": null,
            "overflow_x": null,
            "overflow_y": null,
            "padding": null,
            "right": null,
            "top": null,
            "visibility": null,
            "width": null
          }
        },
        "7efb11e0c6f349d3acb9036414d0aa58": {
          "model_module": "@jupyter-widgets/base",
          "model_module_version": "1.2.0",
          "model_name": "LayoutModel",
          "state": {
            "_model_module": "@jupyter-widgets/base",
            "_model_module_version": "1.2.0",
            "_model_name": "LayoutModel",
            "_view_count": null,
            "_view_module": "@jupyter-widgets/base",
            "_view_module_version": "1.2.0",
            "_view_name": "LayoutView",
            "align_content": null,
            "align_items": null,
            "align_self": null,
            "border": null,
            "bottom": null,
            "display": null,
            "flex": null,
            "flex_flow": null,
            "grid_area": null,
            "grid_auto_columns": null,
            "grid_auto_flow": null,
            "grid_auto_rows": null,
            "grid_column": null,
            "grid_gap": null,
            "grid_row": null,
            "grid_template_areas": null,
            "grid_template_columns": null,
            "grid_template_rows": null,
            "height": null,
            "justify_content": null,
            "justify_items": null,
            "left": null,
            "margin": null,
            "max_height": null,
            "max_width": null,
            "min_height": null,
            "min_width": null,
            "object_fit": null,
            "object_position": null,
            "order": null,
            "overflow": null,
            "overflow_x": null,
            "overflow_y": null,
            "padding": null,
            "right": null,
            "top": null,
            "visibility": null,
            "width": null
          }
        },
        "83db5eea51fb433197e5d35e272d4c1e": {
          "model_module": "@jupyter-widgets/controls",
          "model_module_version": "1.5.0",
          "model_name": "IntSliderModel",
          "state": {
            "_dom_classes": [],
            "_model_module": "@jupyter-widgets/controls",
            "_model_module_version": "1.5.0",
            "_model_name": "IntSliderModel",
            "_view_count": null,
            "_view_module": "@jupyter-widgets/controls",
            "_view_module_version": "1.5.0",
            "_view_name": "IntSliderView",
            "continuous_update": true,
            "description": "slope",
            "description_tooltip": null,
            "disabled": false,
            "layout": "IPY_MODEL_43b43d610630447a965702a4528ae3ee",
            "max": 20,
            "min": -20,
            "orientation": "horizontal",
            "readout": true,
            "readout_format": "d",
            "step": 1,
            "style": "IPY_MODEL_a0990102a86841628117379cc00b6dc4",
            "value": -11
          }
        },
        "a0990102a86841628117379cc00b6dc4": {
          "model_module": "@jupyter-widgets/controls",
          "model_module_version": "1.5.0",
          "model_name": "SliderStyleModel",
          "state": {
            "_model_module": "@jupyter-widgets/controls",
            "_model_module_version": "1.5.0",
            "_model_name": "SliderStyleModel",
            "_view_count": null,
            "_view_module": "@jupyter-widgets/base",
            "_view_module_version": "1.2.0",
            "_view_name": "StyleView",
            "description_width": "",
            "handle_color": null
          }
        },
        "aea242a0e52a48e6837e43db016fcb5b": {
          "model_module": "@jupyter-widgets/controls",
          "model_module_version": "1.5.0",
          "model_name": "SliderStyleModel",
          "state": {
            "_model_module": "@jupyter-widgets/controls",
            "_model_module_version": "1.5.0",
            "_model_name": "SliderStyleModel",
            "_view_count": null,
            "_view_module": "@jupyter-widgets/base",
            "_view_module_version": "1.2.0",
            "_view_name": "StyleView",
            "description_width": "",
            "handle_color": null
          }
        },
        "b8f7dbe533ae439ab6898cf2304ce038": {
          "model_module": "@jupyter-widgets/base",
          "model_module_version": "1.2.0",
          "model_name": "LayoutModel",
          "state": {
            "_model_module": "@jupyter-widgets/base",
            "_model_module_version": "1.2.0",
            "_model_name": "LayoutModel",
            "_view_count": null,
            "_view_module": "@jupyter-widgets/base",
            "_view_module_version": "1.2.0",
            "_view_name": "LayoutView",
            "align_content": null,
            "align_items": null,
            "align_self": null,
            "border": null,
            "bottom": null,
            "display": null,
            "flex": null,
            "flex_flow": null,
            "grid_area": null,
            "grid_auto_columns": null,
            "grid_auto_flow": null,
            "grid_auto_rows": null,
            "grid_column": null,
            "grid_gap": null,
            "grid_row": null,
            "grid_template_areas": null,
            "grid_template_columns": null,
            "grid_template_rows": null,
            "height": null,
            "justify_content": null,
            "justify_items": null,
            "left": null,
            "margin": null,
            "max_height": null,
            "max_width": null,
            "min_height": null,
            "min_width": null,
            "object_fit": null,
            "object_position": null,
            "order": null,
            "overflow": null,
            "overflow_x": null,
            "overflow_y": null,
            "padding": null,
            "right": null,
            "top": null,
            "visibility": null,
            "width": null
          }
        },
        "cb5e41b6f7a046a582309ee19e1b6f81": {
          "model_module": "@jupyter-widgets/base",
          "model_module_version": "1.2.0",
          "model_name": "LayoutModel",
          "state": {
            "_model_module": "@jupyter-widgets/base",
            "_model_module_version": "1.2.0",
            "_model_name": "LayoutModel",
            "_view_count": null,
            "_view_module": "@jupyter-widgets/base",
            "_view_module_version": "1.2.0",
            "_view_name": "LayoutView",
            "align_content": null,
            "align_items": null,
            "align_self": null,
            "border": null,
            "bottom": null,
            "display": null,
            "flex": null,
            "flex_flow": null,
            "grid_area": null,
            "grid_auto_columns": null,
            "grid_auto_flow": null,
            "grid_auto_rows": null,
            "grid_column": null,
            "grid_gap": null,
            "grid_row": null,
            "grid_template_areas": null,
            "grid_template_columns": null,
            "grid_template_rows": null,
            "height": null,
            "justify_content": null,
            "justify_items": null,
            "left": null,
            "margin": null,
            "max_height": null,
            "max_width": null,
            "min_height": null,
            "min_width": null,
            "object_fit": null,
            "object_position": null,
            "order": null,
            "overflow": null,
            "overflow_x": null,
            "overflow_y": null,
            "padding": null,
            "right": null,
            "top": null,
            "visibility": null,
            "width": null
          }
        },
        "dba245a0563d4fb592b37501b3a07443": {
          "model_module": "@jupyter-widgets/base",
          "model_module_version": "1.2.0",
          "model_name": "LayoutModel",
          "state": {
            "_model_module": "@jupyter-widgets/base",
            "_model_module_version": "1.2.0",
            "_model_name": "LayoutModel",
            "_view_count": null,
            "_view_module": "@jupyter-widgets/base",
            "_view_module_version": "1.2.0",
            "_view_name": "LayoutView",
            "align_content": null,
            "align_items": null,
            "align_self": null,
            "border": null,
            "bottom": null,
            "display": null,
            "flex": null,
            "flex_flow": null,
            "grid_area": null,
            "grid_auto_columns": null,
            "grid_auto_flow": null,
            "grid_auto_rows": null,
            "grid_column": null,
            "grid_gap": null,
            "grid_row": null,
            "grid_template_areas": null,
            "grid_template_columns": null,
            "grid_template_rows": null,
            "height": null,
            "justify_content": null,
            "justify_items": null,
            "left": null,
            "margin": null,
            "max_height": null,
            "max_width": null,
            "min_height": null,
            "min_width": null,
            "object_fit": null,
            "object_position": null,
            "order": null,
            "overflow": null,
            "overflow_x": null,
            "overflow_y": null,
            "padding": null,
            "right": null,
            "top": null,
            "visibility": null,
            "width": null
          }
        },
        "e8dec73a7238416a90bd4331a2b8d904": {
          "model_module": "@jupyter-widgets/base",
          "model_module_version": "1.2.0",
          "model_name": "LayoutModel",
          "state": {
            "_model_module": "@jupyter-widgets/base",
            "_model_module_version": "1.2.0",
            "_model_name": "LayoutModel",
            "_view_count": null,
            "_view_module": "@jupyter-widgets/base",
            "_view_module_version": "1.2.0",
            "_view_name": "LayoutView",
            "align_content": null,
            "align_items": null,
            "align_self": null,
            "border": null,
            "bottom": null,
            "display": null,
            "flex": null,
            "flex_flow": null,
            "grid_area": null,
            "grid_auto_columns": null,
            "grid_auto_flow": null,
            "grid_auto_rows": null,
            "grid_column": null,
            "grid_gap": null,
            "grid_row": null,
            "grid_template_areas": null,
            "grid_template_columns": null,
            "grid_template_rows": null,
            "height": null,
            "justify_content": null,
            "justify_items": null,
            "left": null,
            "margin": null,
            "max_height": null,
            "max_width": null,
            "min_height": null,
            "min_width": null,
            "object_fit": null,
            "object_position": null,
            "order": null,
            "overflow": null,
            "overflow_x": null,
            "overflow_y": null,
            "padding": null,
            "right": null,
            "top": null,
            "visibility": null,
            "width": null
          }
        }
      }
    }
  },
  "nbformat": 4,
  "nbformat_minor": 0
}
